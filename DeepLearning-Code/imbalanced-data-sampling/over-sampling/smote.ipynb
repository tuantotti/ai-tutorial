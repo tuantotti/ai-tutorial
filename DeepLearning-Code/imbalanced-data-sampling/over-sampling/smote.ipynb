{
 "cells": [
  {
   "cell_type": "code",
   "execution_count": 5,
   "metadata": {
    "collapsed": true
   },
   "outputs": [],
   "source": [
    "import pandas as pd"
   ]
  },
  {
   "cell_type": "code",
   "execution_count": 8,
   "outputs": [
    {
     "data": {
      "text/plain": "prognosis\n(vertigo) Paroymsal  Positional Vertigo    120\nHepatitis D                                120\nHypertension                               120\nHyperthyroidism                            120\nHypoglycemia                               120\nHypothyroidism                             120\nImpetigo                                   120\nJaundice                                   120\nMalaria                                    120\nMigraine                                   120\nOsteoarthristis                            120\nParalysis (brain hemorrhage)               120\nPeptic ulcer diseae                        120\nPneumonia                                  120\nPsoriasis                                  120\nTuberculosis                               120\nTyphoid                                    120\nUrinary tract infection                    120\nVaricose veins                             120\nHepatitis E                                120\nHepatitis C                                120\nAIDS                                       120\nHepatitis B                                120\nAcne                                       120\nAlcoholic hepatitis                        120\nAllergy                                    120\nArthritis                                  120\nBronchial Asthma                           120\nCervical spondylosis                       120\nChicken pox                                120\nChronic cholestasis                        120\nCommon Cold                                120\nDengue                                     120\nDiabetes                                   120\nDimorphic hemmorhoids(piles)               120\nDrug Reaction                              120\nFungal infection                           120\nGERD                                       120\nGastroenteritis                            120\nHeart attack                               120\nhepatitis A                                120\ndtype: int64"
     },
     "execution_count": 8,
     "metadata": {},
     "output_type": "execute_result"
    }
   ],
   "source": [
    "diabetes_dataset = pd.read_csv('../data/data.csv')\n",
    "diabetes_dataset.value_counts(diabetes_dataset['prognosis'])"
   ],
   "metadata": {
    "collapsed": false
   }
  },
  {
   "cell_type": "code",
   "execution_count": null,
   "outputs": [],
   "source": [],
   "metadata": {
    "collapsed": false
   }
  }
 ],
 "metadata": {
  "kernelspec": {
   "display_name": "Python 3",
   "language": "python",
   "name": "python3"
  },
  "language_info": {
   "codemirror_mode": {
    "name": "ipython",
    "version": 2
   },
   "file_extension": ".py",
   "mimetype": "text/x-python",
   "name": "python",
   "nbconvert_exporter": "python",
   "pygments_lexer": "ipython2",
   "version": "2.7.6"
  }
 },
 "nbformat": 4,
 "nbformat_minor": 0
}
