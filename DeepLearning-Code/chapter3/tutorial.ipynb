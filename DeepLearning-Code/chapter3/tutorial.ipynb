{
 "cells": [
  {
   "cell_type": "markdown",
   "source": [
    "# Imdb dataset\n",
    "+ This is a dataset of 25,000 movies reviews from IMDB, labeled by sentiment (positive/negative).\n",
    "+ Reviews have been preprocessed, and each review is encoded as a list of word indexes (integers)."
   ],
   "metadata": {
    "collapsed": false
   }
  },
  {
   "cell_type": "code",
   "execution_count": 25,
   "outputs": [],
   "source": [
    "import matplotlib.pyplot as plt\n",
    "import numpy as np\n",
    "from keras import layers\n",
    "from keras import losses\n",
    "from keras import metrics\n",
    "from keras import models\n",
    "from keras import optimizers\n",
    "from keras.datasets import imdb"
   ],
   "metadata": {
    "collapsed": false
   }
  },
  {
   "cell_type": "code",
   "execution_count": 3,
   "metadata": {},
   "outputs": [],
   "source": [
    "(train_data, train_labels), (test_data, test_labels) = imdb.load_data(num_words=10000)"
   ]
  },
  {
   "cell_type": "code",
   "execution_count": 8,
   "metadata": {},
   "outputs": [],
   "source": [
    "# train_data[0]"
   ]
  },
  {
   "cell_type": "code",
   "execution_count": 5,
   "metadata": {},
   "outputs": [
    {
     "data": {
      "text/plain": [
       "1"
      ]
     },
     "execution_count": 5,
     "metadata": {},
     "output_type": "execute_result"
    }
   ],
   "source": [
    "train_labels[0]"
   ]
  },
  {
   "cell_type": "code",
   "execution_count": 6,
   "metadata": {},
   "outputs": [
    {
     "name": "stdout",
     "output_type": "stream",
     "text": [
      "(25000,)\n",
      "<class 'list'>\n",
      "218\n"
     ]
    }
   ],
   "source": [
    "print(train_data.shape)\n",
    "print(type(train_data[0]))\n",
    "print(len(train_data[0]))"
   ]
  },
  {
   "cell_type": "markdown",
   "source": [
    "## Decoding to the English words"
   ],
   "metadata": {
    "collapsed": false
   }
  },
  {
   "cell_type": "code",
   "execution_count": 38,
   "outputs": [
    {
     "name": "stdout",
     "output_type": "stream",
     "text": [
      "? this film was just brilliant casting location scenery story direction everyone's really suited the part they played and you could just imagine being there robert ? is an amazing actor and now the same being director ? father came from the same scottish island as myself so i loved the fact there was a real connection with this film the witty remarks throughout the film were great it was just brilliant so much that i bought the film as soon as it was released for ? and would recommend it to everyone to watch and the fly fishing was amazing really cried at the end it was so sad and you know what they say if you cry at a film it must have been good and this definitely was also ? to the two little boy's that played the ? of norman and paul they were just brilliant children are often left out of the ? list i think because the stars that play them all grown up are such a big profile for the whole film but these children are amazing and should be praised for what they have done don't you think the whole story was so lovely because it was true and was someone's life after all that was shared with us all\n"
     ]
    }
   ],
   "source": [
    "word_index = imdb.get_word_index()\n",
    "reverse_word_index = dict(\n",
    "    [(value, key) for (key, value) in word_index.items()]\n",
    ")\n",
    "decoded_review = ' '.join(\n",
    "    [reverse_word_index.get(i - 3, '?') for i in train_data[0]]\n",
    ")\n",
    "# Note that the indices are offset by 3 because 0, 1, and 2 are reserved indices for 'padding', 'start of sequence' and 'unknown'\n",
    "\n",
    "print(decoded_review)"
   ],
   "metadata": {
    "collapsed": false
   }
  },
  {
   "cell_type": "markdown",
   "metadata": {},
   "source": [
    "## Encoding the integer sequences into a binary matrix\n",
    "convert lists to tensors. <br>\n",
    "+ Pad the list (same length)\n",
    "+ One-hot encode (0,1)"
   ]
  },
  {
   "cell_type": "code",
   "execution_count": 13,
   "metadata": {},
   "outputs": [],
   "source": [
    "# one-hot encode\n",
    "def vectorize_sequences(_sequences, _dimension=10000):\n",
    "    results = np.zeros((len(_sequences), _dimension))\n",
    "    for _i, _sequence in enumerate(_sequences):\n",
    "        results[_i, _sequence] = 1.\n",
    "    return results\n",
    "\n",
    "\n",
    "x_train = vectorize_sequences(train_data)\n",
    "y_train = np.asarray(train_labels).astype('float32')\n",
    "x_test = vectorize_sequences(test_data)\n",
    "y_test = np.asarray(test_labels).astype('float32')"
   ]
  },
  {
   "cell_type": "markdown",
   "metadata": {},
   "source": [
    "## Build the model (with 3-layer)"
   ]
  },
  {
   "cell_type": "code",
   "execution_count": 21,
   "metadata": {},
   "outputs": [],
   "source": [
    "model = models.Sequential()\n",
    "model.add(layers.Dense(16, activation='relu', input_shape=(10000,)))\n",
    "model.add(layers.Dense(16, activation='relu'))\n",
    "model.add(layers.Dense(1, activation='sigmoid'))"
   ]
  },
  {
   "cell_type": "markdown",
   "metadata": {},
   "source": [
    "## Compiling the model\n",
    "+ optimizer: use gradient descent to optimize the minimum of loss function\n",
    "+ loss: the loss function that use\n",
    "+ metrics: calculate how often predictions match labels\n",
    "<b>Cross entropy</b>\n",
    "+ https://tonydeep.github.io/tensorflow/2017/07/07/Cross-Entropy-Loss.html\n",
    "+ Entropy: giá trị trung bình tối ưu của một đại lượng nào đó\n",
    "+ Cross Entropy: cho biết mức độ khác biệt giữa 2 phân bổ xác suất"
   ]
  },
  {
   "cell_type": "code",
   "execution_count": 22,
   "metadata": {},
   "outputs": [],
   "source": [
    "model.compile(optimizer=optimizers.RMSprop(learning_rate=0.001), loss=losses.binary_crossentropy,\n",
    "              metrics=[metrics.binary_accuracy])"
   ]
  },
  {
   "cell_type": "markdown",
   "metadata": {},
   "source": [
    "## Setting aside a validation set\n",
    "In order to monitor during training the accuracy of the model on data it has never seen before, you'll create a validation set by setting apart 10000 samples from the original training data"
   ]
  },
  {
   "cell_type": "code",
   "execution_count": 23,
   "metadata": {},
   "outputs": [],
   "source": [
    "x_val = x_train[:10000]\n",
    "partial_x_train = x_train[10000:]\n",
    "y_val = y_train[:10000]\n",
    "partial_y_train = y_train[10000:]"
   ]
  },
  {
   "cell_type": "markdown",
   "metadata": {},
   "source": [
    "### Training the model"
   ]
  },
  {
   "cell_type": "code",
   "execution_count": 24,
   "metadata": {
    "scrolled": true
   },
   "outputs": [
    {
     "name": "stdout",
     "output_type": "stream",
     "text": [
      "Epoch 1/20\n",
      "30/30 [==============================] - 4s 111ms/step - loss: 0.5379 - binary_accuracy: 0.7653 - val_loss: 0.4294 - val_binary_accuracy: 0.8417\n",
      "Epoch 2/20\n",
      "30/30 [==============================] - 1s 17ms/step - loss: 0.3187 - binary_accuracy: 0.9005 - val_loss: 0.3171 - val_binary_accuracy: 0.8816\n",
      "Epoch 3/20\n",
      "30/30 [==============================] - 0s 17ms/step - loss: 0.2305 - binary_accuracy: 0.9269 - val_loss: 0.2813 - val_binary_accuracy: 0.8895\n",
      "Epoch 4/20\n",
      "30/30 [==============================] - 1s 19ms/step - loss: 0.1797 - binary_accuracy: 0.9423 - val_loss: 0.2744 - val_binary_accuracy: 0.8895\n",
      "Epoch 5/20\n",
      "30/30 [==============================] - 1s 18ms/step - loss: 0.1435 - binary_accuracy: 0.9547 - val_loss: 0.2801 - val_binary_accuracy: 0.8872\n",
      "Epoch 6/20\n",
      "30/30 [==============================] - 1s 18ms/step - loss: 0.1192 - binary_accuracy: 0.9631 - val_loss: 0.2915 - val_binary_accuracy: 0.8859\n",
      "Epoch 7/20\n",
      "30/30 [==============================] - 0s 15ms/step - loss: 0.1008 - binary_accuracy: 0.9685 - val_loss: 0.3083 - val_binary_accuracy: 0.8837\n",
      "Epoch 8/20\n",
      "30/30 [==============================] - 0s 15ms/step - loss: 0.0795 - binary_accuracy: 0.9781 - val_loss: 0.3418 - val_binary_accuracy: 0.8781\n",
      "Epoch 9/20\n",
      "30/30 [==============================] - 0s 14ms/step - loss: 0.0679 - binary_accuracy: 0.9805 - val_loss: 0.3500 - val_binary_accuracy: 0.8800\n",
      "Epoch 10/20\n",
      "30/30 [==============================] - 0s 14ms/step - loss: 0.0543 - binary_accuracy: 0.9857 - val_loss: 0.3780 - val_binary_accuracy: 0.8765\n",
      "Epoch 11/20\n",
      "30/30 [==============================] - 0s 15ms/step - loss: 0.0442 - binary_accuracy: 0.9895 - val_loss: 0.4054 - val_binary_accuracy: 0.8759\n",
      "Epoch 12/20\n",
      "30/30 [==============================] - 0s 15ms/step - loss: 0.0354 - binary_accuracy: 0.9923 - val_loss: 0.4433 - val_binary_accuracy: 0.8725\n",
      "Epoch 13/20\n",
      "30/30 [==============================] - 0s 16ms/step - loss: 0.0283 - binary_accuracy: 0.9945 - val_loss: 0.4761 - val_binary_accuracy: 0.8728\n",
      "Epoch 14/20\n",
      "30/30 [==============================] - 0s 17ms/step - loss: 0.0215 - binary_accuracy: 0.9969 - val_loss: 0.5108 - val_binary_accuracy: 0.8677\n",
      "Epoch 15/20\n",
      "30/30 [==============================] - 1s 17ms/step - loss: 0.0169 - binary_accuracy: 0.9979 - val_loss: 0.5349 - val_binary_accuracy: 0.8696\n",
      "Epoch 16/20\n",
      "30/30 [==============================] - 0s 17ms/step - loss: 0.0142 - binary_accuracy: 0.9986 - val_loss: 0.5627 - val_binary_accuracy: 0.8692\n",
      "Epoch 17/20\n",
      "30/30 [==============================] - 0s 15ms/step - loss: 0.0127 - binary_accuracy: 0.9977 - val_loss: 0.6025 - val_binary_accuracy: 0.8685\n",
      "Epoch 18/20\n",
      "30/30 [==============================] - 0s 15ms/step - loss: 0.0058 - binary_accuracy: 0.9997 - val_loss: 0.6338 - val_binary_accuracy: 0.8664\n",
      "Epoch 19/20\n",
      "30/30 [==============================] - 0s 15ms/step - loss: 0.0104 - binary_accuracy: 0.9980 - val_loss: 0.6632 - val_binary_accuracy: 0.8679\n",
      "Epoch 20/20\n",
      "30/30 [==============================] - 0s 14ms/step - loss: 0.0034 - binary_accuracy: 0.9999 - val_loss: 0.7000 - val_binary_accuracy: 0.8645\n"
     ]
    },
    {
     "data": {
      "text/plain": [
       "dict_keys(['loss', 'binary_accuracy', 'val_loss', 'val_binary_accuracy'])"
      ]
     },
     "execution_count": 24,
     "metadata": {},
     "output_type": "execute_result"
    }
   ],
   "source": [
    "history = model.fit(partial_x_train, partial_y_train, epochs=20, batch_size=512, validation_data=(x_val, y_val))\n",
    "history_dict = history.history\n",
    "history_dict.keys()"
   ]
  },
  {
   "cell_type": "markdown",
   "metadata": {},
   "source": [
    "### Visualize"
   ]
  },
  {
   "cell_type": "code",
   "execution_count": 30,
   "metadata": {},
   "outputs": [
    {
     "data": {
      "image/png": "[encoded data removed]",
      "text/plain": [
       "<Figure size 432x288 with 1 Axes>"
      ]
     },
     "metadata": {
      "needs_background": "light"
     },
     "output_type": "display_data"
    }
   ],
   "source": [
    "loss_values = history_dict['loss']\n",
    "val_loss_values = history_dict['val_loss']\n",
    "epochs = range(1, 21)\n",
    "\n",
    "plt.plot(epochs, loss_values, 'bo', label='Training Loss')\n",
    "plt.plot(epochs, val_loss_values, 'b', label='Validation Loss')\n",
    "plt.title('Training and validation loss')\n",
    "plt.xlabel('Epochs')\n",
    "plt.ylabel('Loss')\n",
    "plt.legend()\n",
    "plt.show()"
   ]
  },
  {
   "cell_type": "code",
   "execution_count": 32,
   "metadata": {},
   "outputs": [
    {
     "data": {
      "image/png": "[encoded data removed]",
      "text/plain": [
       "<Figure size 432x288 with 1 Axes>"
      ]
     },
     "metadata": {
      "needs_background": "light"
     },
     "output_type": "display_data"
    }
   ],
   "source": [
    "plt.clf()\n",
    "acc_values = history_dict['binary_accuracy']\n",
    "val_acc_values = history_dict['val_binary_accuracy']\n",
    "\n",
    "plt.plot(epochs, acc_values, 'bo', label='Training Acc')\n",
    "plt.plot(epochs, val_acc_values, 'b', label='Validation Acc')\n",
    "plt.title('Training and validation accuracy')\n",
    "plt.xlabel('Epochs')\n",
    "plt.ylabel('Loss')\n",
    "plt.legend()\n",
    "plt.show()"
   ]
  },
  {
   "cell_type": "markdown",
   "metadata": {},
   "source": [
    "### Conclusion\n",
    "+ The training loss decreases with every epoch, and the training accuracy increases with every epoch (expect)\n",
    "+ The validation loss and accuracy illustrate that this model performs better on the training data. However, it does not good at testing data (validation loss increase with every epoch, and the validation accuracy decreases with every epoch)\n",
    "==> <b>Over-fitting</b> because of over-optimizing on the training data (20 epochs)"
   ]
  },
  {
   "cell_type": "markdown",
   "metadata": {},
   "source": [
    "## Retraining a model from scratch"
   ]
  },
  {
   "cell_type": "code",
   "execution_count": 33,
   "metadata": {
    "scrolled": false
   },
   "outputs": [
    {
     "name": "stdout",
     "output_type": "stream",
     "text": [
      "Epoch 1/4\n",
      "49/49 [==============================] - 2s 37ms/step - loss: 0.4592 - binary_accuracy: 0.8159\n",
      "Epoch 2/4\n",
      "49/49 [==============================] - 1s 18ms/step - loss: 0.2624 - binary_accuracy: 0.9086\n",
      "Epoch 3/4\n",
      "49/49 [==============================] - 1s 14ms/step - loss: 0.2023 - binary_accuracy: 0.9295\n",
      "Epoch 4/4\n",
      "49/49 [==============================] - 1s 14ms/step - loss: 0.1686 - binary_accuracy: 0.9402\n",
      "782/782 [==============================] - 2s 2ms/step - loss: 0.2937 - binary_accuracy: 0.8841\n"
     ]
    }
   ],
   "source": [
    "model = models.Sequential()\n",
    "model.add(layers.Dense(16, activation='relu', input_shape=(10000,)))\n",
    "model.add(layers.Dense(16, activation='relu'))\n",
    "model.add(layers.Dense(1, activation='sigmoid'))\n",
    "\n",
    "model.compile(optimizer=optimizers.RMSprop(learning_rate=0.001), loss=losses.binary_crossentropy,\n",
    "              metrics=[metrics.binary_accuracy])\n",
    "model.fit(x_train, y_train, epochs=4, batch_size=512)\n",
    "results = model.evaluate(x_test, y_test)"
   ]
  },
  {
   "cell_type": "code",
   "execution_count": 34,
   "metadata": {
    "scrolled": true
   },
   "outputs": [
    {
     "name": "stdout",
     "output_type": "stream",
     "text": [
      "782/782 [==============================] - 2s 2ms/step\n"
     ]
    },
    {
     "data": {
      "text/plain": [
       "array([[0.19277482],\n",
       "       [0.99966   ],\n",
       "       [0.899774  ],\n",
       "       ...,\n",
       "       [0.15659225],\n",
       "       [0.08271556],\n",
       "       [0.62987226]], dtype=float32)"
      ]
     },
     "execution_count": 34,
     "metadata": {},
     "output_type": "execute_result"
    }
   ],
   "source": [
    "model.predict(x_test)"
   ]
  }
 ],
 "metadata": {
  "kernelspec": {
   "display_name": "Python 3 (ipykernel)",
   "language": "python",
   "name": "python3"
  },
  "language_info": {
   "codemirror_mode": {
    "name": "ipython",
    "version": 3
   },
   "file_extension": ".py",
   "mimetype": "text/x-python",
   "name": "python",
   "nbconvert_exporter": "python",
   "pygments_lexer": "ipython3",
   "version": "3.9.5"
  }
 },
 "nbformat": 4,
 "nbformat_minor": 1
}
