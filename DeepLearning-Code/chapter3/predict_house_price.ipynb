{
 "cells": [
  {
   "cell_type": "markdown",
   "source": [
    "# Import the package"
   ],
   "metadata": {
    "collapsed": false
   }
  },
  {
   "cell_type": "code",
   "execution_count": 6,
   "outputs": [],
   "source": [
    "import numpy as np\n",
    "from keras import layers\n",
    "from keras import models\n",
    "from keras.datasets import boston_housing"
   ],
   "metadata": {
    "collapsed": false
   }
  },
  {
   "cell_type": "markdown",
   "source": [
    "# Loading the dataset"
   ],
   "metadata": {
    "collapsed": false
   }
  },
  {
   "cell_type": "code",
   "execution_count": 7,
   "outputs": [
    {
     "name": "stdout",
     "output_type": "stream",
     "text": [
      "(404, 13)\n",
      "(102, 13)\n"
     ]
    }
   ],
   "source": [
    "(train_data, train_targets), (test_data, test_targets) = boston_housing.load_data()\n",
    "print(train_data.shape)\n",
    "print(test_data.shape)"
   ],
   "metadata": {
    "collapsed": false
   }
  },
  {
   "cell_type": "markdown",
   "source": [
    "# Normalizing the data"
   ],
   "metadata": {
    "collapsed": false
   }
  },
  {
   "cell_type": "code",
   "execution_count": 8,
   "outputs": [],
   "source": [
    "mean = train_data.mean(axis=0)\n",
    "train_data -= mean\n",
    "std = train_data.std(axis=0)\n",
    "train_data /= std\n",
    "\n",
    "test_data -= mean\n",
    "test_data /= std"
   ],
   "metadata": {
    "collapsed": false
   }
  },
  {
   "cell_type": "markdown",
   "source": [
    "# Building the network\n",
    "<ul>\n",
    "<li>The network ends with a single unit and no activation (linear layer) --> free to predict values in any range</li>\n",
    "<li><i>mse</i> loss function: mean squared error (the square of the difference between the predictions and the targets)</li>\n",
    "<li><i>mae</i> (mean absolute error): it's the absolute value of the difference between the predictions and the targets</li>\n",
    "</ul>"
   ],
   "metadata": {
    "collapsed": false
   }
  },
  {
   "cell_type": "code",
   "execution_count": 9,
   "outputs": [],
   "source": [
    "def build_model():\n",
    "    _model = models.Sequential()\n",
    "    _model.add(layers.Dense(64, activation='relu',\n",
    "                            input_shape=(train_data.shape[1],)))\n",
    "    _model.add(layers.Dense(64, activation='relu'))\n",
    "    _model.add(layers.Dense(1))\n",
    "    _model.compile(optimizer='rmsprop', loss='mse', metrics=['mae'])\n",
    "    return _model"
   ],
   "metadata": {
    "collapsed": false
   }
  },
  {
   "cell_type": "markdown",
   "source": [
    "# K-fold cross-validation\n",
    "<ul>\n",
    "<li>split the data into K partitions (typically K=4 or 5)</li>\n",
    "<li>training each one K-1 partitions while evaluating on the remaining partition</li>\n",
    "<li>the validation score for the model used is then the average of the K validation scores obtained</li>\n",
    "</ul>\n"
   ],
   "metadata": {
    "collapsed": false
   }
  },
  {
   "cell_type": "code",
   "execution_count": 10,
   "outputs": [],
   "source": [
    "k = 4\n",
    "num_val_samples = len(train_data) // k\n",
    "num_epochs = 100\n",
    "all_scores = []\n",
    "\n",
    "for i in range(k):\n",
    "    validation_data = train_data[i * num_val_samples:(i + 1) * num_val_samples]\n",
    "    validation_targets = train_targets[i * num_val_samples: (i + 1) * num_val_samples]\n",
    "    partial_data = np.concatenate([train_data[:i * num_val_samples], train_data[(i + 1) * num_val_samples:]], axis=0)\n",
    "    partial_targets = np.concatenate([train_targets[:i * num_val_samples], train_targets[(i + 1) * num_val_samples:]],\n",
    "                                     axis=0)\n",
    "\n",
    "    model = build_model()\n",
    "    history = model.fit(partial_data, partial_targets, validation_data=(validation_data, validation_targets),\n",
    "                        epochs=num_epochs, batch_size=1,\n",
    "                        verbose=0,\n",
    "                        )  # verbose=0 is silent mode for logging\n",
    "    mae_history = history.history['val_mae']\n",
    "    all_scores.append(mae_history)"
   ],
   "metadata": {
    "collapsed": false
   }
  },
  {
   "cell_type": "code",
   "execution_count": 10,
   "outputs": [],
   "source": [],
   "metadata": {
    "collapsed": false
   }
  }
 ],
 "metadata": {
  "kernelspec": {
   "display_name": "Python 3",
   "language": "python",
   "name": "python3"
  },
  "language_info": {
   "codemirror_mode": {
    "name": "ipython",
    "version": 2
   },
   "file_extension": ".py",
   "mimetype": "text/x-python",
   "name": "python",
   "nbconvert_exporter": "python",
   "pygments_lexer": "ipython2",
   "version": "2.7.6"
  }
 },
 "nbformat": 4,
 "nbformat_minor": 0
}
